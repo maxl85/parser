{
 "cells": [
  {
   "cell_type": "code",
   "execution_count": 8,
   "metadata": {},
   "outputs": [],
   "source": [
    "#!pip install --upgrade cloudscraper"
   ]
  },
  {
   "cell_type": "code",
   "execution_count": 1,
   "metadata": {},
   "outputs": [],
   "source": [
    "import os\n",
    "import csv\n",
    "import requests\n",
    "import lxml\n",
    "import time\n",
    "import cloudscraper\n",
    "import pandas as pd\n",
    "import numpy as np\n",
    "from bs4 import BeautifulSoup\n",
    "from transliterate import slugify\n",
    "from tqdm import tqdm"
   ]
  },
  {
   "cell_type": "code",
   "execution_count": 2,
   "metadata": {},
   "outputs": [
    {
     "data": {
      "text/plain": [
       "'1.2.68'"
      ]
     },
     "execution_count": 2,
     "metadata": {},
     "output_type": "execute_result"
    }
   ],
   "source": [
    "cloudscraper.__version__"
   ]
  },
  {
   "cell_type": "code",
   "execution_count": 2,
   "metadata": {},
   "outputs": [],
   "source": [
    "def get_html(url_):\n",
    "    headers = {'User-Agent': 'Mozilla/5.0 (Windows NT 6.1) AppleWebKit/537.36 (KHTML, like Gecko) Chrome/91.0.4472.77 Safari/537.36'}\n",
    "    scraper = cloudscraper.create_scraper(delay=10, debug=False,  browser='chrome')\n",
    "    response = scraper.get(url_, headers=headers)\n",
    "    return response\n",
    "\n",
    "def get_prods(url_):\n",
    "    response = 0\n",
    "    for i in range(10):\n",
    "        try:\n",
    "            response= get_html(url_)\n",
    "            break\n",
    "        except:\n",
    "            time.sleep(1)\n",
    "            continue\n",
    "    return response"
   ]
  },
  {
   "cell_type": "code",
   "execution_count": 3,
   "metadata": {},
   "outputs": [
    {
     "name": "stdout",
     "output_type": "stream",
     "text": [
      "(1, 4)\n"
     ]
    },
    {
     "data": {
      "text/html": [
       "<div>\n",
       "<style scoped>\n",
       "    .dataframe tbody tr th:only-of-type {\n",
       "        vertical-align: middle;\n",
       "    }\n",
       "\n",
       "    .dataframe tbody tr th {\n",
       "        vertical-align: top;\n",
       "    }\n",
       "\n",
       "    .dataframe thead th {\n",
       "        text-align: right;\n",
       "    }\n",
       "</style>\n",
       "<table border=\"1\" class=\"dataframe\">\n",
       "  <thead>\n",
       "    <tr style=\"text-align: right;\">\n",
       "      <th></th>\n",
       "      <th>_MODEL_</th>\n",
       "      <th>_SKU_</th>\n",
       "      <th>Name</th>\n",
       "      <th>Url</th>\n",
       "    </tr>\n",
       "  </thead>\n",
       "  <tbody>\n",
       "    <tr>\n",
       "      <th>0</th>\n",
       "      <td>00000000065</td>\n",
       "      <td>00065</td>\n",
       "      <td>Ведро  9л оцин.</td>\n",
       "      <td>https://www.vseinstrumenti.ru/sadovaya-tehnika...</td>\n",
       "    </tr>\n",
       "  </tbody>\n",
       "</table>\n",
       "</div>"
      ],
      "text/plain": [
       "       _MODEL_  _SKU_             Name  \\\n",
       "0  00000000065  00065  Ведро  9л оцин.   \n",
       "\n",
       "                                                 Url  \n",
       "0  https://www.vseinstrumenti.ru/sadovaya-tehnika...  "
      ]
     },
     "execution_count": 3,
     "metadata": {},
     "output_type": "execute_result"
    }
   ],
   "source": [
    "with open('download.xlsx', \"rb\") as f:\n",
    "    df = pd.read_excel(f, dtype=str)\n",
    "print(df.shape)\n",
    "df.head()"
   ]
  },
  {
   "cell_type": "code",
   "execution_count": 4,
   "metadata": {},
   "outputs": [],
   "source": [
    "df1 = pd.DataFrame(columns=['_MODEL_', '_SKU_', '_NAME_', '_CATEGORY_', '_MAIN_CATEGORY_', '_MANUFACTURER_', '_DESCRIPTION_', '_ATTRIBUTES_', '_PRODUCT_IMAGES_', '_STATUS_', '_SEO_KEYWORD_'])\n",
    "df1.to_excel(\"opencart.xlsx\", index = False)\n",
    "\n",
    "df1 = pd.DataFrame(columns=['_MODEL_', '_SKU_', 'Name', 'Url', 'Where', 'status_code', 'reason'])\n",
    "df1.to_excel(\"error.xlsx\", index = False)"
   ]
  },
  {
   "cell_type": "code",
   "execution_count": 4,
   "metadata": {},
   "outputs": [
    {
     "data": {
      "text/plain": [
       "'https://www.vseinstrumenti.ru/sadovaya-tehnika/sadoviy-instrument-i-inventar/vedra/otsinkovannye/spets/metall-otsinkovannoe-9l-ved-ots-09/'"
      ]
     },
     "execution_count": 4,
     "metadata": {},
     "output_type": "execute_result"
    }
   ],
   "source": [
    "url_ = df['Url'][0]\n",
    "url_"
   ]
  },
  {
   "cell_type": "code",
   "execution_count": 6,
   "metadata": {},
   "outputs": [
    {
     "ename": "CloudflareChallengeError",
     "evalue": "Detected a Cloudflare version 2 Captcha challenge, This feature is not available in the opensource (free) version.",
     "output_type": "error",
     "traceback": [
      "\u001b[1;31m---------------------------------------------------------------------------\u001b[0m",
      "\u001b[1;31mCloudflareChallengeError\u001b[0m                  Traceback (most recent call last)",
      "Cell \u001b[1;32mIn[6], line 4\u001b[0m\n\u001b[0;32m      2\u001b[0m scraper \u001b[39m=\u001b[39m cloudscraper\u001b[39m.\u001b[39mcreate_scraper()\n\u001b[0;32m      3\u001b[0m \u001b[39m# response = scraper.get(url_, headers=headers)\u001b[39;00m\n\u001b[1;32m----> 4\u001b[0m response \u001b[39m=\u001b[39m scraper\u001b[39m.\u001b[39;49mget(url_)\n",
      "File \u001b[1;32mc:\\Users\\main\\Desktop\\Python\\parser\\venv\\Lib\\site-packages\\requests\\sessions.py:600\u001b[0m, in \u001b[0;36mSession.get\u001b[1;34m(self, url, **kwargs)\u001b[0m\n\u001b[0;32m    592\u001b[0m \u001b[39mr\u001b[39m\u001b[39m\"\"\"Sends a GET request. Returns :class:`Response` object.\u001b[39;00m\n\u001b[0;32m    593\u001b[0m \n\u001b[0;32m    594\u001b[0m \u001b[39m:param url: URL for the new :class:`Request` object.\u001b[39;00m\n\u001b[0;32m    595\u001b[0m \u001b[39m:param \\*\\*kwargs: Optional arguments that ``request`` takes.\u001b[39;00m\n\u001b[0;32m    596\u001b[0m \u001b[39m:rtype: requests.Response\u001b[39;00m\n\u001b[0;32m    597\u001b[0m \u001b[39m\"\"\"\u001b[39;00m\n\u001b[0;32m    599\u001b[0m kwargs\u001b[39m.\u001b[39msetdefault(\u001b[39m\"\u001b[39m\u001b[39mallow_redirects\u001b[39m\u001b[39m\"\u001b[39m, \u001b[39mTrue\u001b[39;00m)\n\u001b[1;32m--> 600\u001b[0m \u001b[39mreturn\u001b[39;00m \u001b[39mself\u001b[39;49m\u001b[39m.\u001b[39;49mrequest(\u001b[39m\"\u001b[39;49m\u001b[39mGET\u001b[39;49m\u001b[39m\"\u001b[39;49m, url, \u001b[39m*\u001b[39;49m\u001b[39m*\u001b[39;49mkwargs)\n",
      "File \u001b[1;32mc:\\Users\\main\\Desktop\\Python\\parser\\venv\\Lib\\site-packages\\cloudscraper\\__init__.py:289\u001b[0m, in \u001b[0;36mCloudScraper.request\u001b[1;34m(self, method, url, *args, **kwargs)\u001b[0m\n\u001b[0;32m    283\u001b[0m cloudflareV1 \u001b[39m=\u001b[39m Cloudflare(\u001b[39mself\u001b[39m)\n\u001b[0;32m    285\u001b[0m \u001b[39m# ------------------------------------------------------------------------------- #\u001b[39;00m\n\u001b[0;32m    286\u001b[0m \u001b[39m# Check if Cloudflare v1 anti-bot is on\u001b[39;00m\n\u001b[0;32m    287\u001b[0m \u001b[39m# ------------------------------------------------------------------------------- #\u001b[39;00m\n\u001b[1;32m--> 289\u001b[0m \u001b[39mif\u001b[39;00m cloudflareV1\u001b[39m.\u001b[39;49mis_Challenge_Request(response):\n\u001b[0;32m    290\u001b[0m     \u001b[39m# ------------------------------------------------------------------------------- #\u001b[39;00m\n\u001b[0;32m    291\u001b[0m     \u001b[39m# Try to solve the challenge and send it back\u001b[39;00m\n\u001b[0;32m    292\u001b[0m     \u001b[39m# ------------------------------------------------------------------------------- #\u001b[39;00m\n\u001b[0;32m    294\u001b[0m     \u001b[39mif\u001b[39;00m \u001b[39mself\u001b[39m\u001b[39m.\u001b[39m_solveDepthCnt \u001b[39m>\u001b[39m\u001b[39m=\u001b[39m \u001b[39mself\u001b[39m\u001b[39m.\u001b[39msolveDepth:\n\u001b[0;32m    295\u001b[0m         _ \u001b[39m=\u001b[39m \u001b[39mself\u001b[39m\u001b[39m.\u001b[39m_solveDepthCnt\n",
      "File \u001b[1;32mc:\\Users\\main\\Desktop\\Python\\parser\\venv\\Lib\\site-packages\\cloudscraper\\cloudflare.py:178\u001b[0m, in \u001b[0;36mCloudflare.is_Challenge_Request\u001b[1;34m(self, resp)\u001b[0m\n\u001b[0;32m    172\u001b[0m     \u001b[39mself\u001b[39m\u001b[39m.\u001b[39mcloudscraper\u001b[39m.\u001b[39msimpleException(\n\u001b[0;32m    173\u001b[0m         CloudflareCode1020,\n\u001b[0;32m    174\u001b[0m         \u001b[39m'\u001b[39m\u001b[39mCloudflare has blocked this request (Code 1020 Detected).\u001b[39m\u001b[39m'\u001b[39m\n\u001b[0;32m    175\u001b[0m     )\n\u001b[0;32m    177\u001b[0m \u001b[39mif\u001b[39;00m \u001b[39mself\u001b[39m\u001b[39m.\u001b[39mis_New_Captcha_Challenge(resp):\n\u001b[1;32m--> 178\u001b[0m     \u001b[39mself\u001b[39;49m\u001b[39m.\u001b[39;49mcloudscraper\u001b[39m.\u001b[39;49msimpleException(\n\u001b[0;32m    179\u001b[0m         CloudflareChallengeError,\n\u001b[0;32m    180\u001b[0m         \u001b[39m'\u001b[39;49m\u001b[39mDetected a Cloudflare version 2 Captcha challenge, This feature is not available in the opensource (free) version.\u001b[39;49m\u001b[39m'\u001b[39;49m\n\u001b[0;32m    181\u001b[0m     )\n\u001b[0;32m    183\u001b[0m \u001b[39mif\u001b[39;00m \u001b[39mself\u001b[39m\u001b[39m.\u001b[39mis_New_IUAM_Challenge(resp):\n\u001b[0;32m    184\u001b[0m     \u001b[39mself\u001b[39m\u001b[39m.\u001b[39mcloudscraper\u001b[39m.\u001b[39msimpleException(\n\u001b[0;32m    185\u001b[0m         CloudflareChallengeError,\n\u001b[0;32m    186\u001b[0m         \u001b[39m'\u001b[39m\u001b[39mDetected a Cloudflare version 2 challenge, This feature is not available in the opensource (free) version.\u001b[39m\u001b[39m'\u001b[39m\n\u001b[0;32m    187\u001b[0m     )\n",
      "File \u001b[1;32mc:\\Users\\main\\Desktop\\Python\\parser\\venv\\Lib\\site-packages\\cloudscraper\\__init__.py:199\u001b[0m, in \u001b[0;36mCloudScraper.simpleException\u001b[1;34m(self, exception, msg)\u001b[0m\n\u001b[0;32m    197\u001b[0m \u001b[39mself\u001b[39m\u001b[39m.\u001b[39m_solveDepthCnt \u001b[39m=\u001b[39m \u001b[39m0\u001b[39m\n\u001b[0;32m    198\u001b[0m sys\u001b[39m.\u001b[39mtracebacklimit \u001b[39m=\u001b[39m \u001b[39m0\u001b[39m\n\u001b[1;32m--> 199\u001b[0m \u001b[39mraise\u001b[39;00m exception(msg)\n",
      "\u001b[1;31mCloudflareChallengeError\u001b[0m: Detected a Cloudflare version 2 Captcha challenge, This feature is not available in the opensource (free) version."
     ]
    }
   ],
   "source": [
    "# headers = {'User-Agent': 'Mozilla/5.0 (Windows NT 6.1) AppleWebKit/537.36 (KHTML, like Gecko) Chrome/91.0.4472.77 Safari/537.36'}\n",
    "scraper = cloudscraper.create_scraper()\n",
    "# response = scraper.get(url_, headers=headers)\n",
    "response = scraper.get(url_)"
   ]
  },
  {
   "cell_type": "code",
   "execution_count": 31,
   "metadata": {},
   "outputs": [
    {
     "name": "stderr",
     "output_type": "stream",
     "text": [
      "  0%|          | 0/1 [00:11<?, ?it/s]\n"
     ]
    },
    {
     "ename": "AttributeError",
     "evalue": "'int' object has no attribute 'status_code'",
     "output_type": "error",
     "traceback": [
      "\u001b[1;31m---------------------------------------------------------------------------\u001b[0m",
      "\u001b[1;31mAttributeError\u001b[0m                            Traceback (most recent call last)",
      "Cell \u001b[1;32mIn[31], line 3\u001b[0m\n\u001b[0;32m      1\u001b[0m \u001b[39mfor\u001b[39;00m index \u001b[39min\u001b[39;00m tqdm(df\u001b[39m.\u001b[39mindex):\n\u001b[0;32m      2\u001b[0m     response \u001b[39m=\u001b[39m get_prods(df[\u001b[39m'\u001b[39m\u001b[39mUrl\u001b[39m\u001b[39m'\u001b[39m][index])\n\u001b[1;32m----> 3\u001b[0m     \u001b[39mif\u001b[39;00m(response\u001b[39m.\u001b[39;49mstatus_code\u001b[39m==\u001b[39m\u001b[39m200\u001b[39m):\n\u001b[0;32m      4\u001b[0m         soup \u001b[39m=\u001b[39m BeautifulSoup(response\u001b[39m.\u001b[39mtext, \u001b[39m\"\u001b[39m\u001b[39mlxml\u001b[39m\u001b[39m\"\u001b[39m)\n\u001b[0;32m      6\u001b[0m         _NAME_ \u001b[39m=\u001b[39m soup\u001b[39m.\u001b[39mfind(\u001b[39m'\u001b[39m\u001b[39mh1\u001b[39m\u001b[39m'\u001b[39m)\u001b[39m.\u001b[39mtext\u001b[39m.\u001b[39mstrip()\n",
      "\u001b[1;31mAttributeError\u001b[0m: 'int' object has no attribute 'status_code'"
     ]
    }
   ],
   "source": [
    "for index in tqdm(df.index):\n",
    "    response = get_prods(df['Url'][index])\n",
    "    if(response.status_code==200):\n",
    "        soup = BeautifulSoup(response.text, \"lxml\")\n",
    "\n",
    "        _NAME_ = soup.find('h1').text.strip()\n",
    "        _SEO_KEYWORD_ = slugify(_NAME_)\n",
    "\n",
    "        breadcrumbs = soup.find('nav', class_=\"breadcrumbs\").text.split('/')\n",
    "        breadcrumbs = [s.strip() for s in breadcrumbs]\n",
    "        _CATEGORY_ = '|'.join(map(str, breadcrumbs[1:]))\n",
    "        _MAIN_CATEGORY_ = _CATEGORY_\n",
    "        try:\n",
    "            _MANUFACTURER_ = soup.find('img', class_=\"brand-logo\")['alt']\n",
    "        except:\n",
    "            _MANUFACTURER_ = \"\"\n",
    "        try:\n",
    "            _DESCRIPTION_ = soup.find(itemprop=\"description\").text.strip()\n",
    "        except:\n",
    "            _DESCRIPTION_ = \"\"\n",
    "\n",
    "        # Find attributes\n",
    "        tag_names = soup.find(class_='specification-list').findAll(itemprop='name')\n",
    "        tag_values = soup.find(class_='specification-list').findAll(itemprop='value')\n",
    "        _ATTRIBUTES_ = ''\n",
    "        for i in range(len(tag_names)):\n",
    "            _ATTRIBUTES_ = _ATTRIBUTES_ + 'Характеристики' + '|' + tag_names[i].text.strip() + '|' + tag_values[i].text.strip() + '\\n'\n",
    "        \n",
    "        # Find images link\n",
    "        images = soup.find(class_='carousel -vertical').find_all('a')\n",
    "        big_img = []\n",
    "        for img in images:\n",
    "            big_img.append(img['href'])\n",
    "        \n",
    "        # Download images\n",
    "        local_path = []\n",
    "        for url_img in big_img:\n",
    "            resp = get_prods(url_img)\n",
    "            path = 'catalog/' + '/'.join(map(str, url_img.split('/')[4:]))\n",
    "            local_path.append(path)\n",
    "            # Save the image\n",
    "            if (type(resp)!=int and resp.status_code == 200):\n",
    "                os.makedirs(os.path.dirname(path), exist_ok=True)\n",
    "                with open(path, \"wb\") as f:\n",
    "                    f.write(resp.content)\n",
    "            else:\n",
    "                df1 = pd.DataFrame([[df['_MODEL_'][index], df['_SKU_'][index], df['Name'][index],  df['Url'][index], 'Images', resp.status_code, resp.reason]])\n",
    "                with pd.ExcelWriter('error.xlsx', mode='a', if_sheet_exists=\"overlay\") as writer:  \n",
    "                    df1.to_excel(writer, startrow =writer.sheets['Sheet1'].max_row, index = False, header = False)\n",
    "            \n",
    "            _PRODUCT_IMAGES_ = ','.join(map(str, local_path))\n",
    "        \n",
    "        _STATUS_ = '1'\n",
    "        \n",
    "        df1 = pd.DataFrame([[df['_MODEL_'][index], df['_SKU_'][index], _NAME_, _CATEGORY_, _MAIN_CATEGORY_, _MANUFACTURER_, _DESCRIPTION_, _ATTRIBUTES_, _PRODUCT_IMAGES_, _STATUS_, _SEO_KEYWORD_]])\n",
    "        with pd.ExcelWriter('opencart.xlsx', mode='a', if_sheet_exists=\"overlay\") as writer:  \n",
    "            df1.to_excel(writer, startrow =writer.sheets['Sheet1'].max_row, index = False, header = False)\n",
    "    else:\n",
    "        df1 = pd.DataFrame([[df['_MODEL_'][index], df['_SKU_'][index], df['Name'][index],  df['Url'][index], 'Url', response.status_code, response.reason]])\n",
    "        with pd.ExcelWriter('error.xlsx', mode='a', if_sheet_exists=\"overlay\") as writer:  \n",
    "            df1.to_excel(writer, startrow =writer.sheets['Sheet1'].max_row, index = False, header = False)"
   ]
  },
  {
   "cell_type": "code",
   "execution_count": 32,
   "metadata": {},
   "outputs": [
    {
     "data": {
      "text/plain": [
       "['https://cdn.vseinstrumenti.ru/images/goods/sadovaya-tehnika-i-instrument/sadovyj-inventar-i-instrument/1473343/1200x800/51302289.jpg',\n",
       " 'https://cdn.vseinstrumenti.ru/images/goods/sadovaya-tehnika-i-instrument/sadovyj-inventar-i-instrument/1473343/1200x800/54359172.jpg',\n",
       " 'https://cdn.vseinstrumenti.ru/images/goods/sadovaya-tehnika-i-instrument/sadovyj-inventar-i-instrument/1473343/1200x800/54359173.jpg',\n",
       " 'https://cdn.vseinstrumenti.ru/images/goods/sadovaya-tehnika-i-instrument/sadovyj-inventar-i-instrument/1473343/1200x800/54359174.jpg']"
      ]
     },
     "execution_count": 32,
     "metadata": {},
     "output_type": "execute_result"
    }
   ],
   "source": [
    "big_img"
   ]
  },
  {
   "cell_type": "code",
   "execution_count": 34,
   "metadata": {},
   "outputs": [
    {
     "data": {
      "text/plain": [
       "0"
      ]
     },
     "execution_count": 34,
     "metadata": {},
     "output_type": "execute_result"
    }
   ],
   "source": [
    "response"
   ]
  },
  {
   "cell_type": "code",
   "execution_count": null,
   "metadata": {},
   "outputs": [],
   "source": []
  },
  {
   "cell_type": "code",
   "execution_count": null,
   "metadata": {},
   "outputs": [],
   "source": []
  },
  {
   "cell_type": "code",
   "execution_count": null,
   "metadata": {},
   "outputs": [],
   "source": []
  },
  {
   "cell_type": "code",
   "execution_count": null,
   "metadata": {},
   "outputs": [],
   "source": [
    "with open('opencart.csv', 'w', newline='', encoding=\"utf-8\") as f:\n",
    "  write = csv.writer(f, delimiter=';', quoting=csv.QUOTE_ALL)   \n",
    "  write.writerow(['_MODEL_', '_SKU_', '_NAME_', '_CATEGORY_', '_MAIN_CATEGORY_', '_MANUFACTURER_', '_DESCRIPTION_', '_ATTRIBUTES_', '_PRODUCT_IMAGES_', '_STATUS_', '_SEO_KEYWORD_'])\n",
    "\n",
    "with open('error.csv', 'w', newline='', encoding=\"utf-8\") as f:\n",
    "  write = csv.writer(f, delimiter=';', quoting=csv.QUOTE_ALL)   \n",
    "  write.writerow(['_MODEL_', '_SKU_', 'Name', 'Url', 'Where', 'status_code', 'reason'])"
   ]
  },
  {
   "cell_type": "code",
   "execution_count": null,
   "metadata": {},
   "outputs": [
    {
     "data": {
      "text/html": [
       "<div>\n",
       "<style scoped>\n",
       "    .dataframe tbody tr th:only-of-type {\n",
       "        vertical-align: middle;\n",
       "    }\n",
       "\n",
       "    .dataframe tbody tr th {\n",
       "        vertical-align: top;\n",
       "    }\n",
       "\n",
       "    .dataframe thead th {\n",
       "        text-align: right;\n",
       "    }\n",
       "</style>\n",
       "<table border=\"1\" class=\"dataframe\">\n",
       "  <thead>\n",
       "    <tr style=\"text-align: right;\">\n",
       "      <th></th>\n",
       "      <th>_MODEL_</th>\n",
       "      <th>_SKU_</th>\n",
       "      <th>Name</th>\n",
       "      <th>Url</th>\n",
       "    </tr>\n",
       "  </thead>\n",
       "  <tbody>\n",
       "    <tr>\n",
       "      <th>0</th>\n",
       "      <td>00000015295</td>\n",
       "      <td>УШМ-115-800 М3</td>\n",
       "      <td>Углошлифовальная машина ЗУБР УШМ-115-800 М3, 1...</td>\n",
       "      <td>https://www.vseinstrumenti.ru/instrument/shlif...</td>\n",
       "    </tr>\n",
       "    <tr>\n",
       "      <th>1</th>\n",
       "      <td>00000015296</td>\n",
       "      <td>УШМ-125-1100 ТМ3</td>\n",
       "      <td>Углошлифовальная машина ЗУБР УШМ-125-1100 ТМ3 ...</td>\n",
       "      <td>https://www.vseinstrumenti.ru/instrument/shlif...</td>\n",
       "    </tr>\n",
       "    <tr>\n",
       "      <th>2</th>\n",
       "      <td>00000015302</td>\n",
       "      <td>УШМ-125-1200 ЭМЗ</td>\n",
       "      <td>Углошлифовальная машина ЗУБР УШМ-125-1200, 125...</td>\n",
       "      <td>https://www.vseinstrumenti.ru/instrument/shlif...</td>\n",
       "    </tr>\n",
       "  </tbody>\n",
       "</table>\n",
       "</div>"
      ],
      "text/plain": [
       "       _MODEL_             _SKU_  \\\n",
       "0  00000015295    УШМ-115-800 М3   \n",
       "1  00000015296  УШМ-125-1100 ТМ3   \n",
       "2  00000015302  УШМ-125-1200 ЭМЗ   \n",
       "\n",
       "                                                Name  \\\n",
       "0  Углошлифовальная машина ЗУБР УШМ-115-800 М3, 1...   \n",
       "1  Углошлифовальная машина ЗУБР УШМ-125-1100 ТМ3 ...   \n",
       "2  Углошлифовальная машина ЗУБР УШМ-125-1200, 125...   \n",
       "\n",
       "                                                 Url  \n",
       "0  https://www.vseinstrumenti.ru/instrument/shlif...  \n",
       "1  https://www.vseinstrumenti.ru/instrument/shlif...  \n",
       "2  https://www.vseinstrumenti.ru/instrument/shlif...  "
      ]
     },
     "metadata": {},
     "output_type": "display_data"
    }
   ],
   "source": [
    "with open('download.xlsx', \"rb\") as f:\n",
    "    df = pd.read_excel(f, dtype=str)\n",
    "df"
   ]
  },
  {
   "cell_type": "code",
   "execution_count": null,
   "metadata": {},
   "outputs": [
    {
     "name": "stderr",
     "output_type": "stream",
     "text": [
      "100%|██████████| 3/3 [00:11<00:00,  3.90s/it]\n"
     ]
    }
   ],
   "source": [
    "for index in tqdm(df.index):\n",
    "    response = get_prods(df['Url'][index])\n",
    "    if(response.status_code==200):\n",
    "        soup = BeautifulSoup(response.text, \"lxml\")\n",
    "\n",
    "        _NAME_ = soup.find('h1').text.strip()\n",
    "        _SEO_KEYWORD_ = slugify(_NAME_)\n",
    "\n",
    "        breadcrumbs = soup.find('nav', class_=\"breadcrumbs\").text.split('/')\n",
    "        breadcrumbs = [s.strip() for s in breadcrumbs]\n",
    "        _CATEGORY_ = '|'.join(map(str, breadcrumbs[1:]))\n",
    "        _MAIN_CATEGORY_ = _CATEGORY_\n",
    "        _MANUFACTURER_ = soup.find('img', class_=\"brand-logo\")['alt']\n",
    "        _DESCRIPTION_ = soup.find(itemprop=\"description\").text.strip()\n",
    "\n",
    "        # Find attributes\n",
    "        tag_names = soup.find(class_='features spoiler').findAll(itemprop='name')\n",
    "        tag_values = soup.find(class_='features spoiler').findAll(itemprop='value')\n",
    "        _ATTRIBUTES_ = ''\n",
    "        for i in range(len(tag_names)):\n",
    "            _ATTRIBUTES_ = _ATTRIBUTES_ + 'Характеристики' + '|' + tag_names[i].text.strip() + '|' + tag_values[i].text.strip() + '\\n'\n",
    "        \n",
    "        # Find images link\n",
    "        images = soup.find(class_='listing-carousel').find_all('a')\n",
    "        big_img = []\n",
    "        for img in images:\n",
    "            zoom = img.find('div', class_='zoom')\n",
    "            responses = zoom['style'].split(\"url('\")[1][:-2]\n",
    "            if(zoom.find_next_sibling('div')==None):\n",
    "                big_img.append(responses)\n",
    "        \n",
    "        # Download images\n",
    "        local_path = []\n",
    "        for url_img in big_img:\n",
    "            resp = get_prods(url_img)\n",
    "            path = 'catalog/' + '/'.join(map(str, url_img.split('/')[4:]))\n",
    "            local_path.append(path)\n",
    "            # Save the image\n",
    "            if resp.status_code == 200:\n",
    "                os.makedirs(os.path.dirname(path), exist_ok=True)\n",
    "                with open(path, \"wb\") as f:\n",
    "                    f.write(resp.content)\n",
    "            else:\n",
    "                with open('error.csv', 'a', newline='') as f:\n",
    "                    write = csv.writer(f, delimiter=';')   \n",
    "                    write.writerow([df['_MODEL_'][index], df['_SKU_'][index], df['Name'][index],  df['Url'][index], 'Images', resp.status_code, resp.reason])\n",
    "            \n",
    "            _PRODUCT_IMAGES_ = ','.join(map(str, local_path))\n",
    "        \n",
    "        _STATUS_ = '1'\n",
    "\n",
    "        with open('opencart.csv', 'a', newline='', encoding=\"utf-8\") as f:\n",
    "            write = csv.writer(f, delimiter=';', quoting=csv.QUOTE_NONNUMERIC)   \n",
    "            write.writerow([df['_MODEL_'][index], df['_SKU_'][index], _NAME_, _CATEGORY_, _MAIN_CATEGORY_, _MANUFACTURER_, _DESCRIPTION_, _ATTRIBUTES_, _PRODUCT_IMAGES_, _STATUS_, _SEO_KEYWORD_])\n",
    "    else:\n",
    "        with open('error.csv', 'a', newline='', encoding=\"utf-8\") as f:\n",
    "            write = csv.writer(f, delimiter=';', quoting=csv.QUOTE_NONNUMERIC)   \n",
    "            write.writerow([df['_MODEL_'][index], df['_SKU_'][index], df['Name'][index],  df['Url'][index], 'Url', response.status_code, response.reason])"
   ]
  },
  {
   "cell_type": "code",
   "execution_count": null,
   "metadata": {},
   "outputs": [],
   "source": []
  }
 ],
 "metadata": {
  "kernelspec": {
   "display_name": "Python 3.11.0 ('venv': venv)",
   "language": "python",
   "name": "python3"
  },
  "language_info": {
   "codemirror_mode": {
    "name": "ipython",
    "version": 3
   },
   "file_extension": ".py",
   "mimetype": "text/x-python",
   "name": "python",
   "nbconvert_exporter": "python",
   "pygments_lexer": "ipython3",
   "version": "3.11.0"
  },
  "orig_nbformat": 4,
  "vscode": {
   "interpreter": {
    "hash": "3f761af9ea6e4e6ea6d82f5066cce2d8312ce2554782f42f76b91b124207ded2"
   }
  }
 },
 "nbformat": 4,
 "nbformat_minor": 2
}
