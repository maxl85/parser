{
 "cells": [
  {
   "cell_type": "code",
   "execution_count": 1,
   "metadata": {},
   "outputs": [],
   "source": [
    "import requests\n",
    "import lxml\n",
    "from bs4 import BeautifulSoup\n",
    "import cloudscraper"
   ]
  },
  {
   "cell_type": "code",
   "execution_count": 11,
   "metadata": {},
   "outputs": [
    {
     "name": "stdout",
     "output_type": "stream",
     "text": [
      "Status Code: 200\n",
      "Status Code Reason: OK\n"
     ]
    }
   ],
   "source": [
    "# url = 'https://rostov.vseinstrumenti.ru/instrument/shlifmashiny/bolgarka_ushm/vihr/ushm-115_650_72_12_3/'\n",
    "\n",
    "# headers = {'User-Agent': 'Mozilla/5.0 (Windows NT 6.1) AppleWebKit/537.36 (KHTML, like Gecko) Chrome/91.0.4472.77 Safari/537.36'}\n",
    "\n",
    "# scraper = cloudscraper.create_scraper(delay=10, debug=False,  browser='chrome')\n",
    "# response = scraper.get(url, headers=headers)\n",
    "# print('Status Code:', response.status_code)\n",
    "# print('Status Code Reason:', response.reason)"
   ]
  },
  {
   "cell_type": "code",
   "execution_count": 17,
   "metadata": {},
   "outputs": [],
   "source": [
    "url = 'https://rostov.vseinstrumenti.ru/instrument/shlifmashiny/bolgarka_ushm/vihr/ushm-115_650_72_12_3/'\n",
    "headers = {'User-Agent': 'Mozilla/5.0 (Windows NT 6.1) AppleWebKit/537.36 (KHTML, like Gecko) Chrome/91.0.4472.77 Safari/537.36'}\n",
    "\n",
    "def get_html():\n",
    "    scraper = cloudscraper.create_scraper(delay=10, debug=False,  browser='chrome')\n",
    "    response = scraper.get(url, headers=headers)\n",
    "    return response"
   ]
  },
  {
   "cell_type": "code",
   "execution_count": 18,
   "metadata": {},
   "outputs": [
    {
     "name": "stdout",
     "output_type": "stream",
     "text": [
      "Status Code: 200\n",
      "Status Code Reason: OK\n"
     ]
    }
   ],
   "source": [
    "response = 0\n",
    "try:\n",
    "    response= get_html()\n",
    "except:\n",
    "    response = get_html()\n",
    "\n",
    "print('Status Code:', response.status_code)\n",
    "print('Status Code Reason:', response.reason)"
   ]
  },
  {
   "cell_type": "code",
   "execution_count": 20,
   "metadata": {},
   "outputs": [],
   "source": [
    "soup = BeautifulSoup(response.text, \"lxml\")\n",
    "# soup = BeautifulSoup(response.text, \"html.parser\")\n",
    "# print(soup.prettify())"
   ]
  },
  {
   "cell_type": "code",
   "execution_count": 35,
   "metadata": {},
   "outputs": [
    {
     "name": "stdout",
     "output_type": "stream",
     "text": [
      "Углошлифовальная машина ВИХРЬ УШМ-115/650 72/12/3\n"
     ]
    }
   ],
   "source": [
    "title_tag = soup.find('h1')\n",
    "print(title_tag.text)"
   ]
  },
  {
   "cell_type": "code",
   "execution_count": 58,
   "metadata": {},
   "outputs": [
    {
     "name": "stdout",
     "output_type": "stream",
     "text": [
      "[<a class=\"link\" href=\"https://rostov.vseinstrumenti.ru/tag-page/shlifovalnye-mashinki-shlifmashinki-220-v-21386/\" itemprop=\"value\" onclick=\"dataLayer.push({'event': 'tx_to_tag'});\" title=\"220\"> 220 </a>, <a class=\"link\" href=\"https://rostov.vseinstrumenti.ru/tag-page/ksr-28-24-12-91-21-22-578-12721/\" itemprop=\"value\" onclick=\"dataLayer.push({'event': 'tx_to_tag'});\" title=\"650\"> 650 </a>, <a class=\"link\" href=\"https://www.vseinstrumenti.ru/tag-page/shlifovalnye-mashinki-shlifmashinki-115-mm-21393/\" itemprop=\"value\" onclick=\"dataLayer.push({'event': 'tx_to_tag'});\" title=\"115\"> 115 </a>, <span class=\"value\" itemprop=\"value\" title=\"22.2\"> 22.2 </span>, <span class=\"value\" itemprop=\"value\" title=\"11000\"> 11000 </span>, <span class=\"value\" itemprop=\"value\" title=\"нет\"> нет </span>, <span class=\"value\" itemprop=\"value\" title=\"нет\"> нет </span>, <span class=\"value\" itemprop=\"value\" title=\"нет\"> нет </span>, <span class=\"value\" itemprop=\"value\" title=\"нет\"> нет </span>, <span class=\"value\" itemprop=\"value\" title=\"нет\"> нет </span>, <span class=\"value\" itemprop=\"value\" title=\"нет\"> нет </span>, <span class=\"value\" itemprop=\"value\" title=\"нет\"> нет </span>, <a class=\"link\" href=\"https://rostov.vseinstrumenti.ru/tag-page/shlifovalnye-mashinki-shlifmashinki-v-korobke-21388/\" itemprop=\"value\" onclick=\"dataLayer.push({'event': 'tx_to_tag'});\" title=\"коробка\"> коробка </a>, <span class=\"value\" itemprop=\"value\" title=\"1,6\"> 1,6 </span>, <a class=\"link\" href=\"https://rostov.vseinstrumenti.ru/tag-page/bolgarki-ushm-schetochnye-21428/\" itemprop=\"value\" onclick=\"dataLayer.push({'event': 'tx_to_tag'});\" title=\"щеточный\"> щеточный </a>, <span class=\"value\" itemprop=\"value\" title=\"нет\"> нет </span>, <a class=\"link\" href=\"https://rostov.vseinstrumenti.ru/tag-page/bolgarki-ushm-m14-21424/\" itemprop=\"value\" onclick=\"dataLayer.push({'event': 'tx_to_tag'});\" title=\"М14\"> М14 </a>, <span class=\"value\" itemprop=\"value\" title=\"нет\"> нет </span>]\n"
     ]
    }
   ],
   "source": [
    "# all_features = soup.find(class_='features spoiler').findAll('li', class_='item')\n",
    "# all_features = soup.find(class_='features spoiler').findAll('li', itemprop='additionalProperty')\n",
    "names = soup.find(class_='features spoiler').findAll(itemprop='name')\n",
    "values = soup.find(class_='features spoiler').findAll(itemprop='value')\n",
    "\n",
    "# print(names)\n",
    "print(values)"
   ]
  },
  {
   "cell_type": "code",
   "execution_count": 57,
   "metadata": {},
   "outputs": [
    {
     "data": {
      "text/plain": [
       "'Диаметр диска, мм'"
      ]
     },
     "execution_count": 57,
     "metadata": {},
     "output_type": "execute_result"
    }
   ],
   "source": [
    "a=names[2]\n",
    "a.text.strip()"
   ]
  },
  {
   "cell_type": "code",
   "execution_count": 61,
   "metadata": {},
   "outputs": [
    {
     "data": {
      "text/plain": [
       "'115'"
      ]
     },
     "execution_count": 61,
     "metadata": {},
     "output_type": "execute_result"
    }
   ],
   "source": [
    "a=values[2]\n",
    "a.text.strip()"
   ]
  },
  {
   "cell_type": "code",
   "execution_count": null,
   "metadata": {},
   "outputs": [],
   "source": []
  }
 ],
 "metadata": {
  "kernelspec": {
   "display_name": "Python 3.11.0 ('venv': venv)",
   "language": "python",
   "name": "python3"
  },
  "language_info": {
   "codemirror_mode": {
    "name": "ipython",
    "version": 3
   },
   "file_extension": ".py",
   "mimetype": "text/x-python",
   "name": "python",
   "nbconvert_exporter": "python",
   "pygments_lexer": "ipython3",
   "version": "3.11.0"
  },
  "orig_nbformat": 4,
  "vscode": {
   "interpreter": {
    "hash": "3f761af9ea6e4e6ea6d82f5066cce2d8312ce2554782f42f76b91b124207ded2"
   }
  }
 },
 "nbformat": 4,
 "nbformat_minor": 2
}
