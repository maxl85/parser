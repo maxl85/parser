{
 "cells": [
  {
   "cell_type": "markdown",
   "metadata": {},
   "source": [
    "http://bs4ru.geekwriter.ru/bs4ru.html"
   ]
  },
  {
   "cell_type": "code",
   "execution_count": 199,
   "metadata": {},
   "outputs": [],
   "source": [
    "import os\n",
    "import requests\n",
    "import lxml\n",
    "from bs4 import BeautifulSoup\n",
    "import cloudscraper"
   ]
  },
  {
   "cell_type": "code",
   "execution_count": 11,
   "metadata": {},
   "outputs": [
    {
     "name": "stdout",
     "output_type": "stream",
     "text": [
      "Status Code: 200\n",
      "Status Code Reason: OK\n"
     ]
    }
   ],
   "source": [
    "# url = 'https://rostov.vseinstrumenti.ru/instrument/shlifmashiny/bolgarka_ushm/vihr/ushm-115_650_72_12_3/'\n",
    "\n",
    "# headers = {'User-Agent': 'Mozilla/5.0 (Windows NT 6.1) AppleWebKit/537.36 (KHTML, like Gecko) Chrome/91.0.4472.77 Safari/537.36'}\n",
    "\n",
    "# scraper = cloudscraper.create_scraper(delay=10, debug=False,  browser='chrome')\n",
    "# response = scraper.get(url, headers=headers)\n",
    "# print('Status Code:', response.status_code)\n",
    "# print('Status Code Reason:', response.reason)"
   ]
  },
  {
   "cell_type": "code",
   "execution_count": 221,
   "metadata": {},
   "outputs": [],
   "source": [
    "headers = {'User-Agent': 'Mozilla/5.0 (Windows NT 6.1) AppleWebKit/537.36 (KHTML, like Gecko) Chrome/91.0.4472.77 Safari/537.36'}\n",
    "\n",
    "def get_html(url_):\n",
    "    scraper = cloudscraper.create_scraper(delay=10, debug=False,  browser='chrome')\n",
    "    response = scraper.get(url_, headers=headers)\n",
    "    return response"
   ]
  },
  {
   "cell_type": "code",
   "execution_count": 222,
   "metadata": {},
   "outputs": [
    {
     "name": "stdout",
     "output_type": "stream",
     "text": [
      "Status Code: 200\n",
      "Status Code Reason: OK\n"
     ]
    }
   ],
   "source": [
    "url = 'https://rostov.vseinstrumenti.ru/instrument/shlifmashiny/bolgarka_ushm/vihr/ushm-115_650_72_12_3/'\n",
    "\n",
    "response = 0\n",
    "try:\n",
    "    response= get_html(url)\n",
    "except:\n",
    "    response = get_html(url)\n",
    "\n",
    "print('Status Code:', response.status_code)\n",
    "print('Status Code Reason:', response.reason)"
   ]
  },
  {
   "cell_type": "code",
   "execution_count": 67,
   "metadata": {},
   "outputs": [],
   "source": [
    "soup = BeautifulSoup(response.text, \"lxml\")\n",
    "# soup = BeautifulSoup(response.text, \"html.parser\")\n",
    "# print(soup.prettify())"
   ]
  },
  {
   "cell_type": "code",
   "execution_count": 167,
   "metadata": {},
   "outputs": [
    {
     "name": "stdout",
     "output_type": "stream",
     "text": [
      "Углошлифовальная машина ВИХРЬ УШМ-115/650 72/12/3\n"
     ]
    }
   ],
   "source": [
    "title_tag = soup.find('h1')\n",
    "print(title_tag.text.strip())"
   ]
  },
  {
   "cell_type": "code",
   "execution_count": 178,
   "metadata": {},
   "outputs": [
    {
     "data": {
      "text/plain": [
       "'Инструмент|Шлифмашинки|Болгарки|Сетевые угловые шлифмашины (болгарки)|Вихрь'"
      ]
     },
     "execution_count": 178,
     "metadata": {},
     "output_type": "execute_result"
    }
   ],
   "source": [
    "breadcrumbs = soup.find('nav', class_=\"breadcrumbs\").text.split('/')\n",
    "breadcrumbs = [s.strip() for s in breadcrumbs]\n",
    "_CATEGORY_ = '|'.join(map(str, breadcrumbs[1:]))\n",
    "_CATEGORY_"
   ]
  },
  {
   "cell_type": "code",
   "execution_count": 166,
   "metadata": {},
   "outputs": [
    {
     "data": {
      "text/plain": [
       "'Углошлифовальная машина ВИХРЬ УШМ-115/650 72/12/3 - удобный в использовании электроинструмент, предназначенный для зачистки, шлифования поверхности или резки металла. Машина укомплектована надежным двигателем мощностью 0.65 кВт. Металлический корпус редуктора улучшает отвод тепла. Вытянутый корпус инструмента обеспечивает его надежное удержание во время работы. Боковая рукоятка фиксируется в двух положениях. Диск закрыт специальным кожухом для защиты оператора от травм. Кнопка блокировки шпинделя позволяет быстро и безопасно менять рабочую оснастку.'"
      ]
     },
     "execution_count": 166,
     "metadata": {},
     "output_type": "execute_result"
    }
   ],
   "source": [
    "_DESCRIPTION_ = soup.find(itemprop=\"description\").text.strip()\n",
    "_DESCRIPTION_"
   ]
  },
  {
   "cell_type": "code",
   "execution_count": 229,
   "metadata": {},
   "outputs": [
    {
     "name": "stdout",
     "output_type": "stream",
     "text": [
      "Характеристики|Напряжение, В|220\n",
      "Характеристики|Мощность, Вт|650\n",
      "Характеристики|Диаметр диска, мм|115\n",
      "Характеристики|Посадочный диаметр, мм|22.2\n",
      "Характеристики|Число оборотов, об/мин|11000\n",
      "Характеристики|Электр. регулировка оборотов|нет\n",
      "Характеристики|Суперфланец|нет\n",
      "Характеристики|Быстрозажимная гайка SDS|нет\n",
      "Характеристики|Защита от непреднамеренного пуска|нет\n",
      "Характеристики|Регулировка положения кожуха без инструмента|нет\n",
      "Характеристики|Поддержание постоянных оборотов под нагрузкой|нет\n",
      "Характеристики|Наличие виброручки|нет\n",
      "Характеристики|Комплектация|коробка\n",
      "Характеристики|Вес нетто, кг|1,6\n",
      "Характеристики|Тип двигателя|щеточный\n",
      "Характеристики|Диск в комплекте|нет\n",
      "Характеристики|Резьба шпинделя|М14\n",
      "Характеристики|Блокировка шпинделя при заклинивании диска|нет\n",
      "\n"
     ]
    }
   ],
   "source": [
    "tag_names = soup.find(class_='features spoiler').findAll(itemprop='name')\n",
    "tag_values = soup.find(class_='features spoiler').findAll(itemprop='value')\n",
    "\n",
    "s = ''\n",
    "for i in range(len(tag_names)):\n",
    "    s = s + 'Характеристики' + '|' + tag_names[i].text.strip() + '|' + tag_values[i].text.strip() + '\\n'\n",
    "\n",
    "_ATTRIBUTES_ = s\n",
    "print(_ATTRIBUTES_)"
   ]
  },
  {
   "cell_type": "code",
   "execution_count": 160,
   "metadata": {},
   "outputs": [],
   "source": [
    "images = soup.find(class_='listing-carousel').find_all('a')\n",
    "\n",
    "small_img = []\n",
    "big_img = []\n",
    "for img in images:\n",
    "    small_img.append(img.find('img')['data-src'])\n",
    "    big_img.append(img.find('div', class_='zoom')['style'].split(\"url('\")[1][:-2])\n",
    "\n",
    "_PRODUCT_IMAGES_small = ','.join(map(str, small_img))\n",
    "_PRODUCT_IMAGES_big = ','.join(map(str, big_img))"
   ]
  },
  {
   "cell_type": "code",
   "execution_count": 228,
   "metadata": {},
   "outputs": [
    {
     "data": {
      "text/plain": [
       "'https://cdn.vseinstrumenti.ru/images/goods/stroitelnyj-instrument/shlifovalnye-mashinki-shlifmashinki/685687/560x504/56310278.jpg,https://cdn.vseinstrumenti.ru/images/goods/stroitelnyj-instrument/shlifovalnye-mashinki-shlifmashinki/685687/560x504/59925006.jpg,https://cdn.vseinstrumenti.ru/images/goods/stroitelnyj-instrument/shlifovalnye-mashinki-shlifmashinki/685687/560x504/54127955.jpg,https://cdn.vseinstrumenti.ru/images/goods/stroitelnyj-instrument/shlifovalnye-mashinki-shlifmashinki/685687/560x504/56310284.jpg,https://cdn.vseinstrumenti.ru/images/goods/stroitelnyj-instrument/shlifovalnye-mashinki-shlifmashinki/685687/560x504/56310290.jpg,https://cdn.vseinstrumenti.ru/images/goods/stroitelnyj-instrument/shlifovalnye-mashinki-shlifmashinki/685687/560x504/56310296.jpg,https://cdn.vseinstrumenti.ru/images/goods/stroitelnyj-instrument/shlifovalnye-mashinki-shlifmashinki/685687/560x504/56310302.jpg,https://cdn.vseinstrumenti.ru/images/goods/stroitelnyj-instrument/shlifovalnye-mashinki-shlifmashinki/685687/560x504/56310308.jpg,https://cdn.vseinstrumenti.ru/images/goods/stroitelnyj-instrument/shlifovalnye-mashinki-shlifmashinki/685687/560x504/53654590.jpg,https://cdn.vseinstrumenti.ru/images/goods/stroitelnyj-instrument/shlifovalnye-mashinki-shlifmashinki/685687/560x504/53654591.jpg,https://cdn.vseinstrumenti.ru/images/goods/stroitelnyj-instrument/shlifovalnye-mashinki-shlifmashinki/685687/560x504/53654592.jpg,https://cdn.vseinstrumenti.ru/images/goods/stroitelnyj-instrument/shlifovalnye-mashinki-shlifmashinki/685687/560x504/53654593.jpg,https://cdn.vseinstrumenti.ru/images/goods/stroitelnyj-instrument/shlifovalnye-mashinki-shlifmashinki/685687/560x504/53654594.jpg,https://cdn.vseinstrumenti.ru/images/goods/stroitelnyj-instrument/shlifovalnye-mashinki-shlifmashinki/685687/560x504/53654595.jpg,https://cdn.vseinstrumenti.ru/images/goods/stroitelnyj-instrument/shlifovalnye-mashinki-shlifmashinki/685687/560x504/53654596.jpg'"
      ]
     },
     "execution_count": 228,
     "metadata": {},
     "output_type": "execute_result"
    }
   ],
   "source": [
    "_PRODUCT_IMAGES_small"
   ]
  },
  {
   "cell_type": "code",
   "execution_count": 161,
   "metadata": {},
   "outputs": [
    {
     "data": {
      "text/plain": [
       "'https://cdn.vseinstrumenti.ru/images/goods/stroitelnyj-instrument/shlifovalnye-mashinki-shlifmashinki/685687/1200x800/56310278.jpg,https://cdn.vseinstrumenti.ru/images/goods/stroitelnyj-instrument/shlifovalnye-mashinki-shlifmashinki/685687/1200x800/59925006.jpg,https://cdn.vseinstrumenti.ru/images/goods/stroitelnyj-instrument/shlifovalnye-mashinki-shlifmashinki/685687/1200x800/54127955.jpg,https://cdn.vseinstrumenti.ru/images/goods/stroitelnyj-instrument/shlifovalnye-mashinki-shlifmashinki/685687/1200x800/56310284.jpg,https://cdn.vseinstrumenti.ru/images/goods/stroitelnyj-instrument/shlifovalnye-mashinki-shlifmashinki/685687/1200x800/56310290.jpg,https://cdn.vseinstrumenti.ru/images/goods/stroitelnyj-instrument/shlifovalnye-mashinki-shlifmashinki/685687/1200x800/56310296.jpg,https://cdn.vseinstrumenti.ru/images/goods/stroitelnyj-instrument/shlifovalnye-mashinki-shlifmashinki/685687/1200x800/56310302.jpg,https://cdn.vseinstrumenti.ru/images/goods/stroitelnyj-instrument/shlifovalnye-mashinki-shlifmashinki/685687/1200x800/56310308.jpg,https://cdn.vseinstrumenti.ru/images/goods/stroitelnyj-instrument/shlifovalnye-mashinki-shlifmashinki/685687/1200x800/53654590.jpg,https://cdn.vseinstrumenti.ru/images/goods/stroitelnyj-instrument/shlifovalnye-mashinki-shlifmashinki/685687/1200x800/53654591.jpg,https://cdn.vseinstrumenti.ru/images/goods/stroitelnyj-instrument/shlifovalnye-mashinki-shlifmashinki/685687/1200x800/53654592.jpg,https://cdn.vseinstrumenti.ru/images/goods/stroitelnyj-instrument/shlifovalnye-mashinki-shlifmashinki/685687/1200x800/53654593.jpg,https://cdn.vseinstrumenti.ru/images/goods/stroitelnyj-instrument/shlifovalnye-mashinki-shlifmashinki/685687/1200x800/53654594.jpg,https://cdn.vseinstrumenti.ru/images/goods/stroitelnyj-instrument/shlifovalnye-mashinki-shlifmashinki/685687/1200x800/53654595.jpg,https://cdn.vseinstrumenti.ru/images/goods/stroitelnyj-instrument/shlifovalnye-mashinki-shlifmashinki/685687/1200x800/53654596.jpg'"
      ]
     },
     "execution_count": 161,
     "metadata": {},
     "output_type": "execute_result"
    }
   ],
   "source": [
    "_PRODUCT_IMAGES_big"
   ]
  },
  {
   "cell_type": "code",
   "execution_count": 227,
   "metadata": {},
   "outputs": [],
   "source": [
    "for url_img in small_img:\n",
    "    response = 0\n",
    "    try:\n",
    "        response= get_html(url_img)\n",
    "    except:\n",
    "        response= get_html(url_img)\n",
    "\n",
    "    path = '/'.join(map(str, url_img.split('/')[3:]))\n",
    "\n",
    "    os.makedirs(os.path.dirname(path), exist_ok=True)\n",
    "    with open(path, \"wb\") as f:\n",
    "        f.write(response.content)"
   ]
  },
  {
   "cell_type": "markdown",
   "metadata": {},
   "source": [
    "---"
   ]
  },
  {
   "cell_type": "code",
   "execution_count": null,
   "metadata": {},
   "outputs": [],
   "source": [
    "# извлечь все URL-адреса, найденные на странице в тегах <a>:\n",
    "for link in soup.find_all('a'):\n",
    "    print(link.get('href'))\n",
    "\n",
    "\n",
    "links = soup.find(class_='some_class').find_all('a')\n",
    "for link in links:\n",
    "    print(link.get('href'))"
   ]
  },
  {
   "cell_type": "code",
   "execution_count": null,
   "metadata": {},
   "outputs": [],
   "source": [
    "# Атрибут .descendants позволяет перебирать все дочерние элементы тега рекурсивно:\n",
    "# его непосредственные дочерние элементы, дочерние элементы дочерних элементов и так далее:\n",
    "for child in head_tag.descendants:\n",
    "    print(child)"
   ]
  },
  {
   "cell_type": "code",
   "execution_count": null,
   "metadata": {},
   "outputs": [],
   "source": []
  }
 ],
 "metadata": {
  "kernelspec": {
   "display_name": "Python 3.11.0 ('venv': venv)",
   "language": "python",
   "name": "python3"
  },
  "language_info": {
   "codemirror_mode": {
    "name": "ipython",
    "version": 3
   },
   "file_extension": ".py",
   "mimetype": "text/x-python",
   "name": "python",
   "nbconvert_exporter": "python",
   "pygments_lexer": "ipython3",
   "version": "3.11.0"
  },
  "orig_nbformat": 4,
  "vscode": {
   "interpreter": {
    "hash": "3f761af9ea6e4e6ea6d82f5066cce2d8312ce2554782f42f76b91b124207ded2"
   }
  }
 },
 "nbformat": 4,
 "nbformat_minor": 2
}
