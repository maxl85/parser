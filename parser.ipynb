{
 "cells": [
  {
   "cell_type": "markdown",
   "metadata": {},
   "source": [
    "http://bs4ru.geekwriter.ru/bs4ru.html"
   ]
  },
  {
   "cell_type": "code",
   "execution_count": 336,
   "metadata": {},
   "outputs": [],
   "source": [
    "import os\n",
    "import csv\n",
    "import requests\n",
    "import lxml\n",
    "import time\n",
    "from bs4 import BeautifulSoup\n",
    "import cloudscraper\n",
    "from transliterate import slugify"
   ]
  },
  {
   "cell_type": "code",
   "execution_count": 11,
   "metadata": {},
   "outputs": [
    {
     "name": "stdout",
     "output_type": "stream",
     "text": [
      "Status Code: 200\n",
      "Status Code Reason: OK\n"
     ]
    }
   ],
   "source": [
    "# url = 'https://rostov.vseinstrumenti.ru/instrument/shlifmashiny/bolgarka_ushm/vihr/ushm-115_650_72_12_3/'\n",
    "\n",
    "# headers = {'User-Agent': 'Mozilla/5.0 (Windows NT 6.1) AppleWebKit/537.36 (KHTML, like Gecko) Chrome/91.0.4472.77 Safari/537.36'}\n",
    "\n",
    "# scraper = cloudscraper.create_scraper(delay=10, debug=False,  browser='chrome')\n",
    "# response = scraper.get(url, headers=headers)\n",
    "# print('Status Code:', response.status_code)\n",
    "# print('Status Code Reason:', response.reason)"
   ]
  },
  {
   "cell_type": "code",
   "execution_count": 309,
   "metadata": {},
   "outputs": [],
   "source": [
    "data = []\n",
    "data.append(['_NAME_', '_CATEGORY_', '_MAIN_CATEGORY_', '_MANUFACTURER_', '_DESCRIPTION_', '_ATTRIBUTES_', '_PRODUCT_IMAGES_', '_STATUS_', '_SEO_KEYWORD_'])"
   ]
  },
  {
   "cell_type": "code",
   "execution_count": 221,
   "metadata": {},
   "outputs": [],
   "source": [
    "headers = {'User-Agent': 'Mozilla/5.0 (Windows NT 6.1) AppleWebKit/537.36 (KHTML, like Gecko) Chrome/91.0.4472.77 Safari/537.36'}\n",
    "\n",
    "def get_html(url_):\n",
    "    scraper = cloudscraper.create_scraper(delay=10, debug=False,  browser='chrome')\n",
    "    response = scraper.get(url_, headers=headers)\n",
    "    return response"
   ]
  },
  {
   "cell_type": "code",
   "execution_count": 222,
   "metadata": {},
   "outputs": [
    {
     "name": "stdout",
     "output_type": "stream",
     "text": [
      "Status Code: 200\n",
      "Status Code Reason: OK\n"
     ]
    }
   ],
   "source": [
    "url = 'https://rostov.vseinstrumenti.ru/instrument/shlifmashiny/bolgarka_ushm/vihr/ushm-115_650_72_12_3/'\n",
    "\n",
    "response = 0\n",
    "try:\n",
    "    response= get_html(url)\n",
    "except:\n",
    "    response = get_html(url)\n",
    "\n",
    "print('Status Code:', response.status_code)\n",
    "print('Status Code Reason:', response.reason)"
   ]
  },
  {
   "cell_type": "code",
   "execution_count": 67,
   "metadata": {},
   "outputs": [],
   "source": [
    "soup = BeautifulSoup(response.text, \"lxml\")\n",
    "# soup = BeautifulSoup(response.text, \"html.parser\")\n",
    "# print(soup.prettify())"
   ]
  },
  {
   "cell_type": "code",
   "execution_count": 263,
   "metadata": {},
   "outputs": [
    {
     "name": "stdout",
     "output_type": "stream",
     "text": [
      "Углошлифовальная машина ВИХРЬ УШМ-115/650 72/12/3\n",
      "ugloshlifovalnaja-mashina-vihr-ushm-115650-72123\n"
     ]
    }
   ],
   "source": [
    "_NAME_ = soup.find('h1').text.strip()\n",
    "_SEO_KEYWORD_ = slugify(_NAME_)\n",
    "\n",
    "print(_NAME_)\n",
    "print(_SEO_KEYWORD_)"
   ]
  },
  {
   "cell_type": "code",
   "execution_count": 244,
   "metadata": {},
   "outputs": [
    {
     "name": "stdout",
     "output_type": "stream",
     "text": [
      "_CATEGORY_ =  Инструмент|Шлифмашинки|Болгарки|Сетевые угловые шлифмашины (болгарки)|Вихрь\n",
      "_MAIN_CATEGORY_ =  Инструмент|Шлифмашинки|Болгарки|Сетевые угловые шлифмашины (болгарки)|Вихрь\n",
      "_MANUFACTURER_ =  Вихрь\n"
     ]
    }
   ],
   "source": [
    "breadcrumbs = soup.find('nav', class_=\"breadcrumbs\").text.split('/')\n",
    "breadcrumbs = [s.strip() for s in breadcrumbs]\n",
    "_CATEGORY_ = '|'.join(map(str, breadcrumbs[1:]))\n",
    "_MAIN_CATEGORY_ = _CATEGORY_\n",
    "# _MANUFACTURER_ = breadcrumbs[-1]\n",
    "_MANUFACTURER_ = soup.find('img', class_=\"brand-logo\")['alt']\n",
    "\n",
    "print('_CATEGORY_ = ', _CATEGORY_)\n",
    "print('_MAIN_CATEGORY_ = ', _MAIN_CATEGORY_)\n",
    "print('_MANUFACTURER_ = ', _MANUFACTURER_)"
   ]
  },
  {
   "cell_type": "code",
   "execution_count": 166,
   "metadata": {},
   "outputs": [
    {
     "data": {
      "text/plain": [
       "'Углошлифовальная машина ВИХРЬ УШМ-115/650 72/12/3 - удобный в использовании электроинструмент, предназначенный для зачистки, шлифования поверхности или резки металла. Машина укомплектована надежным двигателем мощностью 0.65 кВт. Металлический корпус редуктора улучшает отвод тепла. Вытянутый корпус инструмента обеспечивает его надежное удержание во время работы. Боковая рукоятка фиксируется в двух положениях. Диск закрыт специальным кожухом для защиты оператора от травм. Кнопка блокировки шпинделя позволяет быстро и безопасно менять рабочую оснастку.'"
      ]
     },
     "execution_count": 166,
     "metadata": {},
     "output_type": "execute_result"
    }
   ],
   "source": [
    "_DESCRIPTION_ = soup.find(itemprop=\"description\").text.strip()\n",
    "_DESCRIPTION_"
   ]
  },
  {
   "cell_type": "code",
   "execution_count": 229,
   "metadata": {},
   "outputs": [
    {
     "name": "stdout",
     "output_type": "stream",
     "text": [
      "Характеристики|Напряжение, В|220\n",
      "Характеристики|Мощность, Вт|650\n",
      "Характеристики|Диаметр диска, мм|115\n",
      "Характеристики|Посадочный диаметр, мм|22.2\n",
      "Характеристики|Число оборотов, об/мин|11000\n",
      "Характеристики|Электр. регулировка оборотов|нет\n",
      "Характеристики|Суперфланец|нет\n",
      "Характеристики|Быстрозажимная гайка SDS|нет\n",
      "Характеристики|Защита от непреднамеренного пуска|нет\n",
      "Характеристики|Регулировка положения кожуха без инструмента|нет\n",
      "Характеристики|Поддержание постоянных оборотов под нагрузкой|нет\n",
      "Характеристики|Наличие виброручки|нет\n",
      "Характеристики|Комплектация|коробка\n",
      "Характеристики|Вес нетто, кг|1,6\n",
      "Характеристики|Тип двигателя|щеточный\n",
      "Характеристики|Диск в комплекте|нет\n",
      "Характеристики|Резьба шпинделя|М14\n",
      "Характеристики|Блокировка шпинделя при заклинивании диска|нет\n",
      "\n"
     ]
    }
   ],
   "source": [
    "tag_names = soup.find(class_='features spoiler').findAll(itemprop='name')\n",
    "tag_values = soup.find(class_='features spoiler').findAll(itemprop='value')\n",
    "\n",
    "s = ''\n",
    "for i in range(len(tag_names)):\n",
    "    s = s + 'Характеристики' + '|' + tag_names[i].text.strip() + '|' + tag_values[i].text.strip() + '\\n'\n",
    "\n",
    "_ATTRIBUTES_ = s\n",
    "print(_ATTRIBUTES_)"
   ]
  },
  {
   "cell_type": "code",
   "execution_count": 308,
   "metadata": {},
   "outputs": [
    {
     "name": "stdout",
     "output_type": "stream",
     "text": [
      "https://cdn.vseinstrumenti.ru/images/goods/stroitelnyj-instrument/shlifovalnye-mashinki-shlifmashinki/685687/1200x800/56310278.jpg,https://cdn.vseinstrumenti.ru/images/goods/stroitelnyj-instrument/shlifovalnye-mashinki-shlifmashinki/685687/1200x800/59925006.jpg,https://cdn.vseinstrumenti.ru/images/goods/stroitelnyj-instrument/shlifovalnye-mashinki-shlifmashinki/685687/1200x800/54127955.jpg,https://cdn.vseinstrumenti.ru/images/goods/stroitelnyj-instrument/shlifovalnye-mashinki-shlifmashinki/685687/1200x800/56310284.jpg,https://cdn.vseinstrumenti.ru/images/goods/stroitelnyj-instrument/shlifovalnye-mashinki-shlifmashinki/685687/1200x800/56310290.jpg,https://cdn.vseinstrumenti.ru/images/goods/stroitelnyj-instrument/shlifovalnye-mashinki-shlifmashinki/685687/1200x800/56310296.jpg,https://cdn.vseinstrumenti.ru/images/goods/stroitelnyj-instrument/shlifovalnye-mashinki-shlifmashinki/685687/1200x800/56310302.jpg,https://cdn.vseinstrumenti.ru/images/goods/stroitelnyj-instrument/shlifovalnye-mashinki-shlifmashinki/685687/1200x800/56310308.jpg,https://cdn.vseinstrumenti.ru/images/goods/stroitelnyj-instrument/shlifovalnye-mashinki-shlifmashinki/685687/1200x800/53654590.jpg,https://cdn.vseinstrumenti.ru/images/goods/stroitelnyj-instrument/shlifovalnye-mashinki-shlifmashinki/685687/1200x800/53654591.jpg,https://cdn.vseinstrumenti.ru/images/goods/stroitelnyj-instrument/shlifovalnye-mashinki-shlifmashinki/685687/1200x800/53654592.jpg,https://cdn.vseinstrumenti.ru/images/goods/stroitelnyj-instrument/shlifovalnye-mashinki-shlifmashinki/685687/1200x800/53654593.jpg,https://cdn.vseinstrumenti.ru/images/goods/stroitelnyj-instrument/shlifovalnye-mashinki-shlifmashinki/685687/1200x800/53654594.jpg,https://cdn.vseinstrumenti.ru/images/goods/stroitelnyj-instrument/shlifovalnye-mashinki-shlifmashinki/685687/1200x800/53654595.jpg,https://cdn.vseinstrumenti.ru/images/goods/stroitelnyj-instrument/shlifovalnye-mashinki-shlifmashinki/685687/1200x800/53654596.jpg\n"
     ]
    }
   ],
   "source": [
    "images = soup.find(class_='listing-carousel').find_all('a')\n",
    "\n",
    "small_img = []\n",
    "big_img = []\n",
    "for img in images:\n",
    "    small_img.append(img.find('img')['data-src'])\n",
    "    big_img.append(img.find('div', class_='zoom')['style'].split(\"url('\")[1][:-2])\n",
    "\n",
    "_PRODUCT_IMAGES_small = ','.join(map(str, small_img))\n",
    "_PRODUCT_IMAGES_big = ','.join(map(str, big_img))\n",
    "\n",
    "# print(_PRODUCT_IMAGES_small)\n",
    "print(_PRODUCT_IMAGES_big)"
   ]
  },
  {
   "cell_type": "code",
   "execution_count": null,
   "metadata": {},
   "outputs": [],
   "source": [
    "local_path = []\n",
    "\n",
    "for url_img in big_img:\n",
    "    response = 0\n",
    "    # try:\n",
    "    #     response= get_html(url_img)\n",
    "    # except:\n",
    "    #     try:\n",
    "    #         response= get_html(url_img)\n",
    "    #     except:\n",
    "    #         response= get_html(url_img)\n",
    "\n",
    "    for i in range(10):\n",
    "        # print('Request = ', i)\n",
    "        try:\n",
    "            response= get_html(url_img)\n",
    "            break\n",
    "        except:\n",
    "            time.sleep(1)\n",
    "            continue\n",
    "\n",
    "    # path = '/'.join(map(str, url_img.split('/')[3:]))\n",
    "    path = 'catalog/' + '/'.join(map(str, url_img.split('/')[4:]))\n",
    "    local_path.append(path)\n",
    "\n",
    "    # Save the image\n",
    "    if response.status_code == 200:\n",
    "        os.makedirs(os.path.dirname(path), exist_ok=True)\n",
    "        with open(path, \"wb\") as f:\n",
    "            f.write(response.content)\n",
    "    else:\n",
    "        print(response.status_code, \" \", url_img)\n",
    "    \n",
    "    _PRODUCT_IMAGES_ = ','.join(map(str, local_path))"
   ]
  },
  {
   "cell_type": "code",
   "execution_count": 338,
   "metadata": {},
   "outputs": [
    {
     "name": "stdout",
     "output_type": "stream",
     "text": [
      "0\n"
     ]
    }
   ],
   "source": [
    "for i in range(5):\n",
    "    print(i)\n",
    "    try:\n",
    "        response= get_html(url_img)\n",
    "        break\n",
    "    except:\n",
    "        time.sleep(1)\n",
    "        continue"
   ]
  },
  {
   "cell_type": "code",
   "execution_count": 330,
   "metadata": {},
   "outputs": [
    {
     "data": {
      "text/plain": [
       "'catalog/goods/stroitelnyj-instrument/shlifovalnye-mashinki-shlifmashinki/685687/1200x800/56310278.jpg,catalog/goods/stroitelnyj-instrument/shlifovalnye-mashinki-shlifmashinki/685687/1200x800/59925006.jpg,catalog/goods/stroitelnyj-instrument/shlifovalnye-mashinki-shlifmashinki/685687/1200x800/54127955.jpg,catalog/goods/stroitelnyj-instrument/shlifovalnye-mashinki-shlifmashinki/685687/1200x800/56310284.jpg,catalog/goods/stroitelnyj-instrument/shlifovalnye-mashinki-shlifmashinki/685687/1200x800/56310290.jpg,catalog/goods/stroitelnyj-instrument/shlifovalnye-mashinki-shlifmashinki/685687/1200x800/56310296.jpg,catalog/goods/stroitelnyj-instrument/shlifovalnye-mashinki-shlifmashinki/685687/1200x800/56310302.jpg,catalog/goods/stroitelnyj-instrument/shlifovalnye-mashinki-shlifmashinki/685687/1200x800/56310308.jpg,catalog/goods/stroitelnyj-instrument/shlifovalnye-mashinki-shlifmashinki/685687/1200x800/53654590.jpg,catalog/goods/stroitelnyj-instrument/shlifovalnye-mashinki-shlifmashinki/685687/1200x800/53654591.jpg,catalog/goods/stroitelnyj-instrument/shlifovalnye-mashinki-shlifmashinki/685687/1200x800/53654592.jpg,catalog/goods/stroitelnyj-instrument/shlifovalnye-mashinki-shlifmashinki/685687/1200x800/53654593.jpg,catalog/goods/stroitelnyj-instrument/shlifovalnye-mashinki-shlifmashinki/685687/1200x800/53654594.jpg,catalog/goods/stroitelnyj-instrument/shlifovalnye-mashinki-shlifmashinki/685687/1200x800/53654595.jpg,catalog/goods/stroitelnyj-instrument/shlifovalnye-mashinki-shlifmashinki/685687/1200x800/53654596.jpg'"
      ]
     },
     "execution_count": 330,
     "metadata": {},
     "output_type": "execute_result"
    }
   ],
   "source": [
    "_PRODUCT_IMAGES_"
   ]
  },
  {
   "cell_type": "code",
   "execution_count": 303,
   "metadata": {},
   "outputs": [],
   "source": [
    "_STATUS_ = '1'"
   ]
  },
  {
   "cell_type": "code",
   "execution_count": 325,
   "metadata": {},
   "outputs": [],
   "source": [
    "data = []\n",
    "data.append(['_NAME_', '_CATEGORY_', '_MAIN_CATEGORY_', '_MANUFACTURER_', '_DESCRIPTION_', '_ATTRIBUTES_', '_PRODUCT_IMAGES_', '_STATUS_', '_SEO_KEYWORD_'])"
   ]
  },
  {
   "cell_type": "code",
   "execution_count": 326,
   "metadata": {},
   "outputs": [],
   "source": [
    "data.append([_NAME_, _CATEGORY_, _MAIN_CATEGORY_, _MANUFACTURER_, _DESCRIPTION_, _ATTRIBUTES_, _PRODUCT_IMAGES_, _STATUS_, _SEO_KEYWORD_])"
   ]
  },
  {
   "cell_type": "code",
   "execution_count": 328,
   "metadata": {},
   "outputs": [],
   "source": [
    "with open('data.csv', 'w', newline='') as f:\n",
    "    # writer = csv.writer(f, quoting=csv.QUOTE_NONNUMERIC)\n",
    "    writer = csv.writer(f, delimiter=';')\n",
    "    # writer.writerows(data)\n",
    "    for row in data:\n",
    "        writer.writerow(row)"
   ]
  },
  {
   "cell_type": "code",
   "execution_count": null,
   "metadata": {},
   "outputs": [],
   "source": []
  },
  {
   "cell_type": "code",
   "execution_count": null,
   "metadata": {},
   "outputs": [],
   "source": []
  },
  {
   "cell_type": "markdown",
   "metadata": {},
   "source": [
    "---"
   ]
  },
  {
   "cell_type": "code",
   "execution_count": null,
   "metadata": {},
   "outputs": [],
   "source": [
    "# извлечь все URL-адреса, найденные на странице в тегах <a>:\n",
    "for link in soup.find_all('a'):\n",
    "    print(link.get('href'))\n",
    "\n",
    "\n",
    "links = soup.find(class_='some_class').find_all('a')\n",
    "for link in links:\n",
    "    print(link.get('href'))"
   ]
  },
  {
   "cell_type": "code",
   "execution_count": null,
   "metadata": {},
   "outputs": [],
   "source": [
    "# Атрибут .descendants позволяет перебирать все дочерние элементы тега рекурсивно:\n",
    "# его непосредственные дочерние элементы, дочерние элементы дочерних элементов и так далее:\n",
    "for child in head_tag.descendants:\n",
    "    print(child)"
   ]
  },
  {
   "cell_type": "code",
   "execution_count": null,
   "metadata": {},
   "outputs": [],
   "source": []
  }
 ],
 "metadata": {
  "kernelspec": {
   "display_name": "Python 3.11.0 ('venv': venv)",
   "language": "python",
   "name": "python3"
  },
  "language_info": {
   "codemirror_mode": {
    "name": "ipython",
    "version": 3
   },
   "file_extension": ".py",
   "mimetype": "text/x-python",
   "name": "python",
   "nbconvert_exporter": "python",
   "pygments_lexer": "ipython3",
   "version": "3.11.0"
  },
  "orig_nbformat": 4,
  "vscode": {
   "interpreter": {
    "hash": "3f761af9ea6e4e6ea6d82f5066cce2d8312ce2554782f42f76b91b124207ded2"
   }
  }
 },
 "nbformat": 4,
 "nbformat_minor": 2
}
