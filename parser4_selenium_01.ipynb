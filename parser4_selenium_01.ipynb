{
 "cells": [
  {
   "cell_type": "code",
   "execution_count": 1,
   "metadata": {},
   "outputs": [],
   "source": [
    "from selenium import webdriver \n",
    "from webdriver_manager.chrome import ChromeDriverManager \n",
    "from selenium.webdriver.chrome.service import Service\n",
    "from selenium.webdriver.chrome.options import Options \n",
    "import time \n",
    "\n",
    "import os\n",
    "import csv\n",
    "import requests\n",
    "import lxml\n",
    "import time\n",
    "# import cloudscraper\n",
    "import pandas as pd\n",
    "import numpy as np\n",
    "from bs4 import BeautifulSoup\n",
    "from transliterate import slugify\n",
    "from tqdm import tqdm"
   ]
  },
  {
   "cell_type": "code",
   "execution_count": 38,
   "metadata": {},
   "outputs": [
    {
     "name": "stdout",
     "output_type": "stream",
     "text": [
      "(476, 4)\n"
     ]
    },
    {
     "data": {
      "text/html": [
       "<div>\n",
       "<style scoped>\n",
       "    .dataframe tbody tr th:only-of-type {\n",
       "        vertical-align: middle;\n",
       "    }\n",
       "\n",
       "    .dataframe tbody tr th {\n",
       "        vertical-align: top;\n",
       "    }\n",
       "\n",
       "    .dataframe thead th {\n",
       "        text-align: right;\n",
       "    }\n",
       "</style>\n",
       "<table border=\"1\" class=\"dataframe\">\n",
       "  <thead>\n",
       "    <tr style=\"text-align: right;\">\n",
       "      <th></th>\n",
       "      <th>_MODEL_</th>\n",
       "      <th>_SKU_</th>\n",
       "      <th>Name</th>\n",
       "      <th>Url</th>\n",
       "    </tr>\n",
       "  </thead>\n",
       "  <tbody>\n",
       "    <tr>\n",
       "      <th>0</th>\n",
       "      <td>00000000065</td>\n",
       "      <td>00065</td>\n",
       "      <td>Ведро  9л оцин.</td>\n",
       "      <td>https://www.vseinstrumenti.ru/sadovaya-tehnika...</td>\n",
       "    </tr>\n",
       "    <tr>\n",
       "      <th>1</th>\n",
       "      <td>00000000066</td>\n",
       "      <td>00066</td>\n",
       "      <td>Ведро 12л оцин.</td>\n",
       "      <td>https://www.vseinstrumenti.ru/sadovaya-tehnika...</td>\n",
       "    </tr>\n",
       "    <tr>\n",
       "      <th>2</th>\n",
       "      <td>00000009200</td>\n",
       "      <td>009200</td>\n",
       "      <td>Ведро 12л стр-ое пластик.</td>\n",
       "      <td>https://www.vseinstrumenti.ru/sadovaya-tehnika...</td>\n",
       "    </tr>\n",
       "    <tr>\n",
       "      <th>3</th>\n",
       "      <td>00000002366</td>\n",
       "      <td>002366</td>\n",
       "      <td>Ведро 15л оцин.</td>\n",
       "      <td>https://www.vseinstrumenti.ru/sadovaya-tehnika...</td>\n",
       "    </tr>\n",
       "    <tr>\n",
       "      <th>4</th>\n",
       "      <td>00000000068</td>\n",
       "      <td>00068</td>\n",
       "      <td>Ведро 16л стр-ое пластик.</td>\n",
       "      <td>https://www.vseinstrumenti.ru/sadovaya-tehnika...</td>\n",
       "    </tr>\n",
       "  </tbody>\n",
       "</table>\n",
       "</div>"
      ],
      "text/plain": [
       "       _MODEL_   _SKU_                       Name  \\\n",
       "0  00000000065   00065            Ведро  9л оцин.   \n",
       "1  00000000066   00066            Ведро 12л оцин.   \n",
       "2  00000009200  009200  Ведро 12л стр-ое пластик.   \n",
       "3  00000002366  002366            Ведро 15л оцин.   \n",
       "4  00000000068   00068  Ведро 16л стр-ое пластик.   \n",
       "\n",
       "                                                 Url  \n",
       "0  https://www.vseinstrumenti.ru/sadovaya-tehnika...  \n",
       "1  https://www.vseinstrumenti.ru/sadovaya-tehnika...  \n",
       "2  https://www.vseinstrumenti.ru/sadovaya-tehnika...  \n",
       "3  https://www.vseinstrumenti.ru/sadovaya-tehnika...  \n",
       "4  https://www.vseinstrumenti.ru/sadovaya-tehnika...  "
      ]
     },
     "execution_count": 38,
     "metadata": {},
     "output_type": "execute_result"
    }
   ],
   "source": [
    "with open('download.xlsx', \"rb\") as f:\n",
    "    df = pd.read_excel(f, dtype=str)\n",
    "print(df.shape)\n",
    "df.head()"
   ]
  },
  {
   "cell_type": "code",
   "execution_count": 39,
   "metadata": {},
   "outputs": [],
   "source": [
    "df1 = pd.DataFrame(columns=['_MODEL_', '_SKU_', '_NAME_', '_CATEGORY_', '_MAIN_CATEGORY_', '_MANUFACTURER_', '_DESCRIPTION_', '_ATTRIBUTES_', '_PRODUCT_IMAGES_', '_STATUS_', '_SEO_KEYWORD_'])\n",
    "df1.to_excel(\"opencart.xlsx\", index = False)\n",
    "\n",
    "df1 = pd.DataFrame(columns=['_MODEL_', '_SKU_', 'Name', 'Url', 'Where', 'status_code', 'reason'])\n",
    "df1.to_excel(\"error.xlsx\", index = False)"
   ]
  },
  {
   "cell_type": "code",
   "execution_count": 40,
   "metadata": {},
   "outputs": [
    {
     "name": "stderr",
     "output_type": "stream",
     "text": [
      "100%|██████████| 476/476 [1:09:06<00:00,  8.71s/it]\n"
     ]
    }
   ],
   "source": [
    "for index in tqdm(df.index):\n",
    "    options = Options()\n",
    "    options.add_argument('--headless')\n",
    "    options.add_argument(\"user-agent=Mozilla/5.0 (Macintosh; Intel Mac OS X 10_15_1) AppleWebKit/537.36 (KHTML, like Gecko) Chrome/80.0.3987.163 Safari/537.36\")\n",
    "    driver = webdriver.Chrome(options=options, service=Service(ChromeDriverManager().install()))\n",
    "    driver.get(df['Url'][index])\n",
    "    \n",
    "    if(driver.title.find('Ошибка 404')==-1):\n",
    "        soup = BeautifulSoup(driver.page_source, \"lxml\")\n",
    "\n",
    "        _NAME_ = soup.find('h1').text.strip()\n",
    "        _SEO_KEYWORD_ = slugify(_NAME_)\n",
    "\n",
    "        breadcrumbs = soup.find('nav', class_=\"breadcrumbs\").text.split('/')\n",
    "        breadcrumbs = [s.strip() for s in breadcrumbs]\n",
    "        _CATEGORY_ = '|'.join(map(str, breadcrumbs[1:]))\n",
    "        _MAIN_CATEGORY_ = _CATEGORY_\n",
    "        try:\n",
    "            _MANUFACTURER_ = soup.find('img', class_=\"brand-logo\")['alt']\n",
    "        except:\n",
    "            _MANUFACTURER_ = \"\"\n",
    "        try:\n",
    "            _DESCRIPTION_ = soup.find(itemprop=\"description\").text.strip()\n",
    "        except:\n",
    "            _DESCRIPTION_ = \"\"\n",
    "\n",
    "        # Find attributes\n",
    "        tag_names = soup.find(class_='specification-list').findAll(itemprop='name')\n",
    "        tag_values = soup.find(class_='specification-list').findAll(itemprop='value')\n",
    "        _ATTRIBUTES_ = ''\n",
    "        for i in range(len(tag_names)):\n",
    "            _ATTRIBUTES_ = _ATTRIBUTES_ + 'Характеристики' + '|' + tag_names[i].text.strip() + '|' + tag_values[i].text.strip() + '\\n'\n",
    "        \n",
    "        # Find images link\n",
    "        images = soup.find(class_='carousel -vertical').find_all('a')\n",
    "        big_img = []\n",
    "        for img in images:\n",
    "            big_img.append(img['href'])\n",
    "        \n",
    "        # Download images\n",
    "        local_path = []\n",
    "        for url_img in big_img:\n",
    "            resp = requests.get(url_img)\n",
    "            path = 'catalog/' + '/'.join(map(str, url_img.split('/')[4:]))\n",
    "            local_path.append(path)\n",
    "            # Save the image\n",
    "            if (type(resp)!=int and resp.status_code == 200):\n",
    "                os.makedirs(os.path.dirname(path), exist_ok=True)\n",
    "                with open(path, \"wb\") as f:\n",
    "                    f.write(resp.content)\n",
    "            else:\n",
    "                df1 = pd.DataFrame([[df['_MODEL_'][index], df['_SKU_'][index], df['Name'][index],  df['Url'][index], 'Images', resp.status_code, resp.reason]])\n",
    "                with pd.ExcelWriter('error.xlsx', mode='a', if_sheet_exists=\"overlay\") as writer:  \n",
    "                    df1.to_excel(writer, startrow =writer.sheets['Sheet1'].max_row, index = False, header = False)\n",
    "            \n",
    "            _PRODUCT_IMAGES_ = ','.join(map(str, local_path))\n",
    "        \n",
    "        _STATUS_ = '1'\n",
    "        \n",
    "        df1 = pd.DataFrame([[df['_MODEL_'][index], df['_SKU_'][index], _NAME_, _CATEGORY_, _MAIN_CATEGORY_, _MANUFACTURER_, _DESCRIPTION_, _ATTRIBUTES_, _PRODUCT_IMAGES_, _STATUS_, _SEO_KEYWORD_]])\n",
    "        with pd.ExcelWriter('opencart.xlsx', mode='a', if_sheet_exists=\"overlay\") as writer:  \n",
    "            df1.to_excel(writer, startrow =writer.sheets['Sheet1'].max_row, index = False, header = False)\n",
    "    else:\n",
    "        df1 = pd.DataFrame([[df['_MODEL_'][index], df['_SKU_'][index], df['Name'][index],  df['Url'][index], 'Url', 'response.status_code', 'response.reason']])\n",
    "        with pd.ExcelWriter('error.xlsx', mode='a', if_sheet_exists=\"overlay\") as writer:  \n",
    "            df1.to_excel(writer, startrow =writer.sheets['Sheet1'].max_row, index = False, header = False)"
   ]
  },
  {
   "cell_type": "code",
   "execution_count": null,
   "metadata": {},
   "outputs": [],
   "source": [
    "driver.quit()"
   ]
  },
  {
   "cell_type": "code",
   "execution_count": null,
   "metadata": {},
   "outputs": [],
   "source": []
  },
  {
   "cell_type": "code",
   "execution_count": null,
   "metadata": {},
   "outputs": [],
   "source": []
  },
  {
   "cell_type": "code",
   "execution_count": null,
   "metadata": {},
   "outputs": [],
   "source": []
  }
 ],
 "metadata": {
  "kernelspec": {
   "display_name": "Python 3.11.0 ('venv': venv)",
   "language": "python",
   "name": "python3"
  },
  "language_info": {
   "codemirror_mode": {
    "name": "ipython",
    "version": 3
   },
   "file_extension": ".py",
   "mimetype": "text/x-python",
   "name": "python",
   "nbconvert_exporter": "python",
   "pygments_lexer": "ipython3",
   "version": "3.11.0"
  },
  "orig_nbformat": 4,
  "vscode": {
   "interpreter": {
    "hash": "3f761af9ea6e4e6ea6d82f5066cce2d8312ce2554782f42f76b91b124207ded2"
   }
  }
 },
 "nbformat": 4,
 "nbformat_minor": 2
}
